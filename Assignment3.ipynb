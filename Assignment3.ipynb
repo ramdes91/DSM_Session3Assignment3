{
 "cells": [
  {
   "cell_type": "code",
   "execution_count": 38,
   "metadata": {},
   "outputs": [
    {
     "name": "stdout",
     "output_type": "stream",
     "text": [
      "Input Range: \n",
      "\t range(1, 5)\n",
      "\n",
      "Add Reduce: \n",
      "\t 10\n",
      "\n",
      "Subtraction Reduce: \n",
      "\t -8\n",
      "\n",
      "Multiply Reduce: \n",
      "\t 24\n"
     ]
    }
   ],
   "source": [
    "# myreduce function\n",
    "def myreduce(IpFunc,IpRange):\n",
    "    start = IpRange[0]\n",
    "    end = IpRange[1]\n",
    "    out = IpFunc(start,end)\n",
    "    start=out\n",
    "    count=0\n",
    "    for i in IpRange:\n",
    "        count=count+1    \n",
    "        if count > 2:            \n",
    "            end = i\n",
    "            out = IpFunc(start,end)\n",
    "            start=out            \n",
    "    return out\n",
    "\n",
    "# Arithmetic Functions\n",
    "def func_Add(n1,n2):\n",
    "    return n1+n2\n",
    "\n",
    "def func_Subtract(n1,n2):\n",
    "    return n1-n2\n",
    "\n",
    "def func_Multiply(n1,n2):\n",
    "    return n1*n2\n",
    "\n",
    "# Call myreduce       \n",
    "IpRange=range(1,5)\n",
    "print('Input Range: \\n\\t',IpRange)\n",
    "print('\\nAdd Reduce: \\n\\t', myreduce(func_Add,IpRange))\n",
    "print('\\nSubtraction Reduce: \\n\\t', myreduce(func_Substract,IpRange))\n",
    "print('\\nMultiply Reduce: \\n\\t', myreduce(func_Multiply,IpRange))    \n"
   ]
  },
  {
   "cell_type": "code",
   "execution_count": 19,
   "metadata": {},
   "outputs": [
    {
     "name": "stdout",
     "output_type": "stream",
     "text": [
      "Input Range: \n",
      "\t range(1, 100)\n",
      "\n",
      "Even Number from Range: \n",
      "\t [2, 4, 6, 8, 10, 12, 14, 16, 18, 20, 22, 24, 26, 28, 30, 32, 34, 36, 38, 40, 42, 44, 46, 48, 50, 52, 54, 56, 58, 60, 62, 64, 66, 68, 70, 72, 74, 76, 78, 80, 82, 84, 86, 88, 90, 92, 94, 96, 98]\n",
      "\n",
      "Odd Number from Range: \n",
      "\t [1, 3, 5, 7, 9, 11, 13, 15, 17, 19, 21, 23, 25, 27, 29, 31, 33, 35, 37, 39, 41, 43, 45, 47, 49, 51, 53, 55, 57, 59, 61, 63, 65, 67, 69, 71, 73, 75, 77, 79, 81, 83, 85, 87, 89, 91, 93, 95, 97, 99]\n",
      "\n",
      "Perfect Square Number from Range: \n",
      "\t [1, 4, 9, 16, 25, 36, 49, 64, 81]\n"
     ]
    }
   ],
   "source": [
    "#myFilter Function\n",
    "def myfilter(logicFunc,IpRange):    \n",
    "    Out=[]\n",
    "    for i in IpRange:\n",
    "        if logicFunc(i)==True:\n",
    "            Out.append(i)\n",
    "    return Out\n",
    "\n",
    "#Logical Functions\n",
    "def IsEven(intInput):\n",
    "    if intInput%2==0:\n",
    "        return True\n",
    "\n",
    "def IsOdd(intInput):\n",
    "    if intInput%2!=0:\n",
    "        return True\n",
    "\n",
    "def IsPerfectSquare(intInput):\n",
    "    intTemp = int(pow(intInput, 1/2))\n",
    "    intTemp = pow(intTemp, 2)\n",
    "    if intTemp==intInput:\n",
    "        return True\n",
    "\n",
    "\n",
    "# Call myfilter\n",
    "IpRange = range(1,100)\n",
    "print('Input Range: \\n\\t',IpRange)\n",
    "print('\\nEven Number from Range: \\n\\t', myfilter(IsEven,IpRange))\n",
    "print('\\nOdd Number from Range: \\n\\t', myfilter(IsOdd,IpRange))   \n",
    "print('\\nPerfect Square Number from Range: \\n\\t', myfilter(IsPerfectSquare,IpRange))"
   ]
  },
  {
   "cell_type": "code",
   "execution_count": 23,
   "metadata": {},
   "outputs": [
    {
     "name": "stdout",
     "output_type": "stream",
     "text": [
      "\n",
      "List1\n",
      "['A', 'C', 'A', 'D', 'G', 'I', 'L', 'D']\n",
      "\n",
      "List2\n",
      "['x', 'xx', 'xxx', 'xxxx', 'y', 'yy', 'yyy', 'yyyy', 'z', 'zz', 'zzz', 'zzzz']\n",
      "\n",
      "List3\n",
      "['x', 'y', 'z', 'xx', 'yy', 'zz', 'xx', 'yy', 'zz', 'xxxx', 'yyyy', 'zzzz']\n",
      "\n",
      "List4\n",
      "[[2], [3], [4], [3], [4], [5], [4], [5], [6]]\n",
      "\n",
      "List5\n",
      "[[2, 3, 4, 5], [3, 4, 5, 6], [4, 5, 6, 7], [5, 6, 7, 8]]\n",
      "\n",
      "List6\n",
      "[(1, 1), (2, 1), (3, 1), (1, 2), (2, 2), (3, 2), (1, 3), (2, 3), (3, 3)]\n"
     ]
    }
   ],
   "source": [
    "print('\\nList1')\n",
    "strIp = 'ACADGILD'\n",
    "Out=[Letter for Letter in strIp]\n",
    "print(Out)\n",
    "\n",
    "print('\\nList2')\n",
    "strIp = 'x,xx,xxx,xxxx,y,yy,yyy,yyyy,z,zz,zzz,zzzz'\n",
    "Out=[Letter for Letter in strIp.split(',')]\n",
    "print(Out)\n",
    "\n",
    "print('\\nList3')\n",
    "strIp = 'x,y,z,xx,yy,zz,xx,yy,zz,xxxx,yyyy,zzzz'\n",
    "Out=[Letter for Letter in strIp.split(',')]\n",
    "print(Out)\n",
    "\n",
    "print('\\nList4')\n",
    "strIp = '234345456'\n",
    "Out=[[int(Letter)] for Letter in strIp]\n",
    "print(Out)\n",
    "\n",
    "print('\\nList5')\n",
    "strIp = [list(range(2,6)),list(range(3,7)),list(range(4,8)),list(range(5,9))]\n",
    "Out=[Letter for Letter in strIp]\n",
    "print(Out)\n",
    "\n",
    "print('\\nList6')\n",
    "strIp = [(1, 1), (2, 1), (3, 1), (1, 2), (2, 2), (3, 2), (1, 3), (2, 3), (3, 3)]\n",
    "Out=[Letter for Letter in strIp]\n",
    "print(Out)"
   ]
  },
  {
   "cell_type": "code",
   "execution_count": 37,
   "metadata": {},
   "outputs": [
    {
     "name": "stdout",
     "output_type": "stream",
     "text": [
      "List of words: \n",
      " ['India', 'is', 'my', 'country', 'and', 'all', 'Indians', 'are', 'my', 'brothers', 'and', 'sisters'] \n",
      "\n",
      "Longest word: \n",
      " brothers\n"
     ]
    }
   ],
   "source": [
    "def longestWord(Word):    \n",
    "    longest_Word = ''    \n",
    "    for i in Word:        \n",
    "        if len(longest_Word)<=len(i):\n",
    "            longest_Word=i\n",
    "    return longest_Word\n",
    "\n",
    "#Call the function with a list\n",
    "strListofWords='India is my country and all Indians are my brothers and sisters'\n",
    "list_Of_Words=list(strListofWords.split(' '))\n",
    "print('List of words: \\n',lst_Of_Words, '\\n')\n",
    "print('Longest word: \\n',longestWord(list_Of_Words))"
   ]
  }
 ],
 "metadata": {
  "kernelspec": {
   "display_name": "Python 3",
   "language": "python",
   "name": "python3"
  },
  "language_info": {
   "codemirror_mode": {
    "name": "ipython",
    "version": 3
   },
   "file_extension": ".py",
   "mimetype": "text/x-python",
   "name": "python",
   "nbconvert_exporter": "python",
   "pygments_lexer": "ipython3",
   "version": "3.6.5"
  }
 },
 "nbformat": 4,
 "nbformat_minor": 2
}
